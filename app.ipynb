{
 "cells": [
  {
   "cell_type": "code",
   "execution_count": 14,
   "metadata": {},
   "outputs": [],
   "source": [
    "import requests\n",
    "import pandas as pd"
   ]
  },
  {
   "cell_type": "code",
   "execution_count": 15,
   "metadata": {},
   "outputs": [],
   "source": [
    "# API endpoint\n",
    "url = \"https://api.coingecko.com/api/v3/coins/markets\"\n",
    "params = {\n",
    "    \"vs_currency\": \"usd\",\n",
    "    \"order\": \"market_cap_desc\",\n",
    "    \"per_page\": 50,\n",
    "    \"page\": 1,\n",
    "    \"sparkline\": False\n",
    "}\n",
    "\n",
    "response = requests.get(url, params=params)\n",
    "data = response.json()\n"
   ]
  },
  {
   "cell_type": "code",
   "execution_count": 16,
   "metadata": {},
   "outputs": [
    {
     "name": "stdout",
     "output_type": "stream",
     "text": [
      "  Cryptocurrency Name Symbol  Current Price (USD)  Market Capitalization  \\\n",
      "0             Bitcoin    btc          96027.00000          1901204206203   \n",
      "1            Ethereum    eth           3337.83000           402060249406   \n",
      "2              Tether   usdt              0.99916           139772620883   \n",
      "3                 XRP    xrp              2.21000           126578515120   \n",
      "4                 BNB    bnb            670.33000            97758727700   \n",
      "\n",
      "   24h Trading Volume  24h Price Change (%)  \n",
      "0         53248950286              -0.96557  \n",
      "1         30669395983              -1.48416  \n",
      "2         42431445383               0.02200  \n",
      "3         11199245293              -2.73069  \n",
      "4          1502951885               0.36526  \n"
     ]
    }
   ],
   "source": [
    "# Convert to DataFrame\n",
    "df = pd.DataFrame(data)[['name', 'symbol', 'current_price', 'market_cap', 'total_volume', 'price_change_percentage_24h']]\n",
    "df.rename(columns={\n",
    "    'name': 'Cryptocurrency Name',\n",
    "    'symbol': 'Symbol',\n",
    "    'current_price': 'Current Price (USD)',\n",
    "    'market_cap': 'Market Capitalization',\n",
    "    'total_volume': '24h Trading Volume',\n",
    "    'price_change_percentage_24h': '24h Price Change (%)'\n",
    "}, inplace=True)\n",
    "print(df.head())\n"
   ]
  },
  {
   "cell_type": "code",
   "execution_count": 17,
   "metadata": {},
   "outputs": [
    {
     "name": "stdout",
     "output_type": "stream",
     "text": [
      "Top 5 Cryptocurrencies by Market Cap:\n",
      "   Cryptocurrency Name Symbol  Current Price (USD)  Market Capitalization  \\\n",
      "0             Bitcoin    btc          96027.00000          1901204206203   \n",
      "1            Ethereum    eth           3337.83000           402060249406   \n",
      "2              Tether   usdt              0.99916           139772620883   \n",
      "3                 XRP    xrp              2.21000           126578515120   \n",
      "4                 BNB    bnb            670.33000            97758727700   \n",
      "\n",
      "   24h Trading Volume  24h Price Change (%)  \n",
      "0         53248950286              -0.96557  \n",
      "1         30669395983              -1.48416  \n",
      "2         42431445383               0.02200  \n",
      "3         11199245293              -2.73069  \n",
      "4          1502951885               0.36526  \n",
      "Average Price: $4238.21\n",
      "Highest 24h Change:\n",
      "    Cryptocurrency Name Symbol  Current Price (USD)  Market Capitalization  \\\n",
      "34                Aave   aave               340.26             5109602315   \n",
      "\n",
      "    24h Trading Volume  24h Price Change (%)  \n",
      "34          1212839713              10.68503  \n",
      "Lowest 24h Change:\n",
      "    Cryptocurrency Name Symbol  Current Price (USD)  Market Capitalization  \\\n",
      "21         Hyperliquid   hype                29.35             9816190972   \n",
      "\n",
      "    24h Trading Volume  24h Price Change (%)  \n",
      "21           712595969             -14.56695  \n"
     ]
    }
   ],
   "source": [
    "# Top 5 by Market Cap\n",
    "top_5 = df.nlargest(5, 'Market Capitalization')\n",
    "\n",
    "# Average price\n",
    "average_price = df['Current Price (USD)'].mean()\n",
    "\n",
    "# Highest and lowest 24h price change\n",
    "highest_change = df.nlargest(1, '24h Price Change (%)')\n",
    "lowest_change = df.nsmallest(1, '24h Price Change (%)')\n",
    "\n",
    "print(\"Top 5 Cryptocurrencies by Market Cap:\\n\", top_5)\n",
    "print(f\"Average Price: ${average_price:.2f}\")\n",
    "print(\"Highest 24h Change:\\n\", highest_change)\n",
    "print(\"Lowest 24h Change:\\n\", lowest_change)\n"
   ]
  },
  {
   "cell_type": "code",
   "execution_count": 18,
   "metadata": {},
   "outputs": [
    {
     "name": "stdout",
     "output_type": "stream",
     "text": [
      "Excel updated!\n"
     ]
    }
   ],
   "source": [
    "import time\n",
    "from openpyxl import Workbook\n",
    "\n",
    "def update_excel():\n",
    "    # Fetch live data\n",
    "    response = requests.get(url, params=params)\n",
    "    data = response.json()\n",
    "    df = pd.DataFrame(data)[['name', 'symbol', 'current_price', 'market_cap', 'total_volume', 'price_change_percentage_24h']]\n",
    "    df.rename(columns={\n",
    "        'name': 'Cryptocurrency Name',\n",
    "        'symbol': 'Symbol',\n",
    "        'current_price': 'Current Price (USD)',\n",
    "        'market_cap': 'Market Capitalization',\n",
    "        'total_volume': '24h Trading Volume',\n",
    "        'price_change_percentage_24h': '24h Price Change (%)'\n",
    "    }, inplace=True)\n",
    "\n",
    "    # Write to Excel\n",
    "    with pd.ExcelWriter(\"crypto_data1.xlsx\", engine=\"openpyxl\") as writer:\n",
    "        df.to_excel(writer, index=False)\n",
    "\n",
    "    print(\"Excel updated!\")\n",
    "\n",
    "# Schedule updates every 5 minutes\n",
    "while True:\n",
    "    update_excel()\n",
    "    time.sleep(300)\n"
   ]
  }
 ],
 "metadata": {
  "kernelspec": {
   "display_name": "Python 3",
   "language": "python",
   "name": "python3"
  },
  "language_info": {
   "codemirror_mode": {
    "name": "ipython",
    "version": 3
   },
   "file_extension": ".py",
   "mimetype": "text/x-python",
   "name": "python",
   "nbconvert_exporter": "python",
   "pygments_lexer": "ipython3",
   "version": "3.10.5"
  }
 },
 "nbformat": 4,
 "nbformat_minor": 2
}
